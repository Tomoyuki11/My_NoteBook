{
  "nbformat": 4,
  "nbformat_minor": 0,
  "metadata": {
    "colab": {
      "provenance": [],
      "authorship_tag": "ABX9TyMRvdq1gNx3p4qeFqhI7v0B",
      "include_colab_link": true
    },
    "kernelspec": {
      "name": "python3",
      "display_name": "Python 3"
    },
    "language_info": {
      "name": "python"
    }
  },
  "cells": [
    {
      "cell_type": "markdown",
      "metadata": {
        "id": "view-in-github",
        "colab_type": "text"
      },
      "source": [
        "<a href=\"https://colab.research.google.com/github/Tomoyuki11/My_NoteBook/blob/master/Untitled7.ipynb\" target=\"_parent\"><img src=\"https://colab.research.google.com/assets/colab-badge.svg\" alt=\"Open In Colab\"/></a>"
      ]
    },
    {
      "cell_type": "code",
      "execution_count": null,
      "metadata": {
        "id": "_zXF_bmuZtqh"
      },
      "outputs": [],
      "source": [
        "import os\n",
        "\n",
        "# 対象のフォルダ（例: \"C:/path/to/folder\"）\n",
        "target_dir = r\"C:\\path\\to\\folder\"\n",
        "\n",
        "# 指定フォルダの名前\n",
        "folder_name = os.path.basename(target_dir)\n",
        "\n",
        "# フォルダ内のファイルを処理\n",
        "for filename in os.listdir(target_dir):\n",
        "    file_path = os.path.join(target_dir, filename)\n",
        "\n",
        "    # ファイルのみ対象（フォルダはスキップ）\n",
        "    if os.path.isfile(file_path):\n",
        "        # 新しいファイル名（フォルダ名_元のファイル名）\n",
        "        new_filename = f\"{folder_name}_{filename}\"\n",
        "        new_file_path = os.path.join(target_dir, new_filename)\n",
        "\n",
        "        # 名前変更\n",
        "        os.rename(file_path, new_file_path)\n",
        "        print(f\"{filename} → {new_filename}\")\n",
        "\n"
      ]
    }
  ]
}