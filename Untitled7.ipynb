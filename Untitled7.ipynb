{
  "nbformat": 4,
  "nbformat_minor": 0,
  "metadata": {
    "colab": {
      "provenance": [],
      "authorship_tag": "ABX9TyN8+j9GotvLGz1Na57rRaI4",
      "include_colab_link": true
    },
    "kernelspec": {
      "name": "python3",
      "display_name": "Python 3"
    },
    "language_info": {
      "name": "python"
    }
  },
  "cells": [
    {
      "cell_type": "markdown",
      "metadata": {
        "id": "view-in-github",
        "colab_type": "text"
      },
      "source": [
        "<a href=\"https://colab.research.google.com/github/Tomoyuki11/My_NoteBook/blob/master/Untitled7.ipynb\" target=\"_parent\"><img src=\"https://colab.research.google.com/assets/colab-badge.svg\" alt=\"Open In Colab\"/></a>"
      ]
    },
    {
      "cell_type": "code",
      "execution_count": 7,
      "metadata": {
        "colab": {
          "base_uri": "https://localhost:8080/",
          "height": 112
        },
        "id": "_zXF_bmuZtqh",
        "outputId": "f2621398-f23f-4084-f732-e5ac1cad50c2"
      },
      "outputs": [
        {
          "output_type": "error",
          "ename": "SyntaxError",
          "evalue": "(unicode error) 'unicodeescape' codec can't decode bytes in position 2-3: truncated \\UXXXXXXXX escape (ipython-input-1352179010.py, line 4)",
          "traceback": [
            "\u001b[0;36m  File \u001b[0;32m\"/tmp/ipython-input-1352179010.py\"\u001b[0;36m, line \u001b[0;32m4\u001b[0m\n\u001b[0;31m    target_dir = \"C:\\Users\\onoch\\OneDrive\\デスクトップ\\電工\\01 H27上\"\u001b[0m\n\u001b[0m                                                            ^\u001b[0m\n\u001b[0;31mSyntaxError\u001b[0m\u001b[0;31m:\u001b[0m (unicode error) 'unicodeescape' codec can't decode bytes in position 2-3: truncated \\UXXXXXXXX escape\n"
          ]
        }
      ],
      "source": [
        "import os\n",
        "\n",
        "# 対象のフォルダ（例: \"C:/path/to/folder\"）\n",
        "target_dir = \"C:\\Users\\onoch\\OneDrive\\デスクトップ\\電工\\01 H27上\"\n",
        "\n",
        "# 指定フォルダの名前\n",
        "folder_name = os.path.basename(target_dir)\n",
        "\n",
        "# フォルダ内のファイルを処理\n",
        "for filename in os.listdir(target_dir):\n",
        "    file_path = os.path.join(target_dir, filename)\n",
        "\n",
        "    # ファイルのみ対象（フォルダはスキップ）\n",
        "    if os.path.isfile(file_path):\n",
        "        # 新しいファイル名（フォルダ名_元のファイル名）\n",
        "        new_filename = f\"{folder_name}_{filename}\"\n",
        "        new_file_path = os.path.join(target_dir, new_filename)\n",
        "\n",
        "        # 名前変更\n",
        "        os.rename(file_path, new_file_path)\n",
        "        print(f\"{filename} → {new_filename}\")\n"
      ]
    }
  ]
}