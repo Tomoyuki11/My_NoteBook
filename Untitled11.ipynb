{
  "nbformat": 4,
  "nbformat_minor": 0,
  "metadata": {
    "colab": {
      "provenance": [],
      "authorship_tag": "ABX9TyNWWjbiShYlDM/MjNr+eKSX",
      "include_colab_link": true
    },
    "kernelspec": {
      "name": "python3",
      "display_name": "Python 3"
    },
    "language_info": {
      "name": "python"
    }
  },
  "cells": [
    {
      "cell_type": "markdown",
      "metadata": {
        "id": "view-in-github",
        "colab_type": "text"
      },
      "source": [
        "<a href=\"https://colab.research.google.com/github/Tomoyuki11/My_NoteBook/blob/master/Untitled11.ipynb\" target=\"_parent\"><img src=\"https://colab.research.google.com/assets/colab-badge.svg\" alt=\"Open In Colab\"/></a>"
      ]
    },
    {
      "cell_type": "code",
      "execution_count": null,
      "metadata": {
        "id": "jC-Dvp3RgTja"
      },
      "outputs": [],
      "source": []
    },
    {
      "cell_type": "code",
      "metadata": {
        "id": "fe59c1e2"
      },
      "source": [
        "import os\n",
        "\n",
        "def list_files_with_path(directory_path):\n",
        "  \"\"\"\n",
        "  指定されたフォルダ内のファイル一覧をパス名で表示します。\n",
        "\n",
        "  Args:\n",
        "    directory_path: ファイル一覧を取得したいフォルダのパス。\n",
        "  \"\"\"\n",
        "  try:\n",
        "    for filename in os.listdir(directory_path):\n",
        "      filepath = os.path.join(directory_path, filename)\n",
        "      if os.path.isfile(filepath):\n",
        "        print(filepath)\n",
        "  except FileNotFoundError:\n",
        "    print(f\"エラー: 指定されたフォルダ '{directory_path}' が見つかりません。\")\n",
        "  except Exception as e:\n",
        "    print(f\"エラーが発生しました: {e}\")\n",
        "\n",
        "# ここにファイル一覧を取得したいフォルダのパスを指定してください\n",
        "folder_path = 'C:/Users/onoch/OneDrive/デスクトップ/電工/01 H27上' # 例：カレントディレクトリのファイルをリストする場合\n",
        "\n",
        "list_files_with_path(folder_path)"
      ],
      "execution_count": null,
      "outputs": []
    }
  ]
}